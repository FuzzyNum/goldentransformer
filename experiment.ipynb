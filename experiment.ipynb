{
 "cells": [
  {
   "cell_type": "code",
   "execution_count": 1,
   "metadata": {},
   "outputs": [],
   "source": [
    "import random\n",
    "import logging\n",
    "import numpy as np\n",
    "import torch\n",
    "import csv\n",
    "from tqdm import tqdm\n",
    "from pytorchfi import core\n",
    "from finetune import Ground_truth_model\n",
    "from errors import stuck_at_one, stuck_at_zero, bit_flip\n",
    "import bitflips\n",
    "import matplotlib.pyplot as plt\n",
    "from torch.utils.data import DataLoader, Dataset\n",
    "from datasets import load_dataset\n",
    "from transformers import DistilBertTokenizer, DistilBertForSequenceClassification\n",
    "from modified_fi import ModifiedFaultInjection"
   ]
  },
  {
   "cell_type": "code",
   "execution_count": null,
   "metadata": {},
   "outputs": [],
   "source": [
    "class Perturbed_model:\n",
    "    def __init__(self,model_,tokenizer,batch_size,input_shape,layer_types,use_cuda=False):\n",
    "        self.ground_truth=model_\n",
    "        self.inj_model=ModifiedFaultInjection(\n",
    "            model=model_.model,\n",
    "            batch_size=batch_size,\n",
    "            input_shape=input_shape,\n",
    "            layer_types=layer_types,\n",
    "            use_cuda=use_cuda\n",
    "        )\n",
    "        self.tokenizer=tokenizer\n",
    "    def setup(self):\n",
    "        self.inj_model._traverse_model_set_hooks()\n",
    "        print(self.inj_model.print_pytorchfi_layer_summary)\n",
    "    def experiment(self,test_loader,n=10):\n",
    "        accuracies=[]\n",
    "        for i in tqdm(range(n)):\n",
    "           \n",
    "            corrupted_model = bitflips.random_inj_per_layer_batched(self.inj_model)\n",
    "                \n",
    "            print(\"Finished injection, beginning evaluation.\")\n",
    "            # Evaluate the faulty model\n",
    "            accuracy = self.evaluate(corrupted_model, test_loader)\n",
    "            print(\"Finished evaluation.\")\n",
    "            accuracies.append(accuracy)\n",
    "                \n",
    "                # Reset the fault injection for the next iteration\n",
    "            self.inj_model.fi_reset()\n",
    "\n",
    "        # Visualize the accuracy results\n",
    "        plt.plot(range(n), accuracies, marker='o')\n",
    "        plt.xlabel('Iteration')\n",
    "        plt.ylabel('Accuracy')\n",
    "        plt.title('Model Accuracy Under Fault Injections')\n",
    "        plt.show()\n",
    "    def evaluate(self, model, dataloader):\n",
    "        device = torch.device(\"cuda\" if torch.cuda.is_available() else \"cpu\")\n",
    "        model.to(device)\n",
    "        print(\"Model on device.\")\n",
    "        model.eval()\n",
    "        print(\"Placed in eval mode.\")\n",
    "\n",
    "        total, correct = 0, 0\n",
    "        print(\"Beginning Evaluation.\")\n",
    "        with torch.no_grad():\n",
    "            for batch in dataloader:\n",
    "\n",
    "                input_ids, attention_mask, labels = (t.to(device) for t in batch)\n",
    "                outputs = model(input_ids, attention_mask=attention_mask)\n",
    "                _, preds = torch.max(outputs.logits, dim=1)\n",
    "                total += labels.size(0)\n",
    "                correct += (preds == labels).sum().item()\n",
    "                self.inj_model.reset_current_layer()\n",
    "\n",
    "\n",
    "        accuracy = 100 * correct / total\n",
    "        return accuracy\n"
   ]
  },
  {
   "cell_type": "code",
   "execution_count": 3,
   "metadata": {},
   "outputs": [],
   "source": [
    "class IMDbDataset(Dataset):\n",
    "    def __init__(self, tokenizer, split=\"train\", max_length=128):\n",
    "        self.dataset = load_dataset(\"imdb\", split=split)\n",
    "        self.tokenizer = tokenizer\n",
    "        self.max_length = max_length\n",
    "\n",
    "    def __len__(self):\n",
    "        return len(self.dataset)\n",
    "\n",
    "    def __getitem__(self, idx):\n",
    "        text = self.dataset[idx][\"text\"]\n",
    "        label = self.dataset[idx][\"label\"]\n",
    "        inputs = self.tokenizer(\n",
    "            text, truncation=True, padding=\"max_length\", max_length=self.max_length, return_tensors=\"pt\"\n",
    "        )\n",
    "        return inputs[\"input_ids\"].squeeze(0), inputs[\"attention_mask\"].squeeze(0), torch.tensor(label)\n"
   ]
  },
  {
   "cell_type": "code",
   "execution_count": null,
   "metadata": {},
   "outputs": [
    {
     "name": "stderr",
     "output_type": "stream",
     "text": [
      "Some weights of DistilBertForSequenceClassification were not initialized from the model checkpoint at distilbert-base-uncased and are newly initialized: ['classifier.bias', 'classifier.weight', 'pre_classifier.bias', 'pre_classifier.weight']\n",
      "You should probably TRAIN this model on a down-stream task to be able to use it for predictions and inference.\n"
     ]
    },
    {
     "name": "stdout",
     "output_type": "stream",
     "text": [
      "Initial accuracy on IMDb test set: 100.00%\n"
     ]
    }
   ],
   "source": [
    "model = DistilBertForSequenceClassification.from_pretrained(\"distilbert-base-uncased\", num_labels=2)\n",
    "tokenizer = DistilBertTokenizer.from_pretrained(\"distilbert-base-uncased\")\n",
    "model.load_state_dict(torch.load(\"rnn_model.pt\", weights_only=True))\n",
    "ground_truth = Ground_truth_model(model,tokenizer)\n",
    "\n",
    "\n",
    "train_dataset = IMDbDataset(ground_truth.tokenizer, split=\"train[:5000]\")  \n",
    "test_dataset = IMDbDataset(ground_truth.tokenizer, split=\"test[:992]\")    \n",
    "\n",
    "\n",
    "train_dataloader = DataLoader(train_dataset, batch_size=16, shuffle=True)\n",
    "test_dataloader = DataLoader(test_dataset, batch_size=16)\n",
    "\n",
    "accuracy=ground_truth.evaluate(test_dataloader)\n",
    "print(f\"Initial accuracy on IMDb test set: {accuracy:.2f}%\")\n"
   ]
  },
  {
   "cell_type": "code",
   "execution_count": 5,
   "metadata": {},
   "outputs": [
    {
     "name": "stdout",
     "output_type": "stream",
     "text": [
      "DistilBertForSequenceClassification(\n",
      "  (distilbert): DistilBertModel(\n",
      "    (embeddings): Embeddings(\n",
      "      (word_embeddings): Embedding(30522, 768, padding_idx=0)\n",
      "      (position_embeddings): Embedding(512, 768)\n",
      "      (LayerNorm): LayerNorm((768,), eps=1e-12, elementwise_affine=True)\n",
      "      (dropout): Dropout(p=0.1, inplace=False)\n",
      "    )\n",
      "    (transformer): Transformer(\n",
      "      (layer): ModuleList(\n",
      "        (0-5): 6 x TransformerBlock(\n",
      "          (attention): DistilBertSdpaAttention(\n",
      "            (dropout): Dropout(p=0.1, inplace=False)\n",
      "            (q_lin): Linear(in_features=768, out_features=768, bias=True)\n",
      "            (k_lin): Linear(in_features=768, out_features=768, bias=True)\n",
      "            (v_lin): Linear(in_features=768, out_features=768, bias=True)\n",
      "            (out_lin): Linear(in_features=768, out_features=768, bias=True)\n",
      "          )\n",
      "          (sa_layer_norm): LayerNorm((768,), eps=1e-12, elementwise_affine=True)\n",
      "          (ffn): FFN(\n",
      "            (dropout): Dropout(p=0.1, inplace=False)\n",
      "            (lin1): Linear(in_features=768, out_features=3072, bias=True)\n",
      "            (lin2): Linear(in_features=3072, out_features=768, bias=True)\n",
      "            (activation): GELUActivation()\n",
      "          )\n",
      "          (output_layer_norm): LayerNorm((768,), eps=1e-12, elementwise_affine=True)\n",
      "        )\n",
      "      )\n",
      "    )\n",
      "  )\n",
      "  (pre_classifier): Linear(in_features=768, out_features=768, bias=True)\n",
      "  (classifier): Linear(in_features=768, out_features=2, bias=True)\n",
      "  (dropout): Dropout(p=0.2, inplace=False)\n",
      ")\n"
     ]
    }
   ],
   "source": [
    "print(ground_truth.model)"
   ]
  },
  {
   "cell_type": "code",
   "execution_count": 6,
   "metadata": {},
   "outputs": [],
   "source": [
    "class WrappedBERT(torch.nn.Module):\n",
    "    def __init__(self, model):\n",
    "        super(WrappedBERT, self).__init__()\n",
    "        self.model = model\n",
    "\n",
    "    def forward(self, input_ids):\n",
    "        attention_mask = (input_ids != 0).long()  # Assume padding token ID is 0\n",
    "        return self.model(input_ids=input_ids, attention_mask=attention_mask)\n",
    "    \n",
    "wrapped_bert = WrappedBERT(ground_truth.model)"
   ]
  },
  {
   "cell_type": "code",
   "execution_count": 7,
   "metadata": {},
   "outputs": [],
   "source": [
    "perturb_model = Perturbed_model(wrapped_bert,ground_truth.tokenizer,batch_size=16, input_shape=[128],layer_types=[torch.nn.Linear])\n",
    "# print(len(perturb_model.inj_model.layers_dim))\n",
    "# print(perturb_model.inj_model.corrupt_layer)\n",
    "# print(perturb_model.inj_model.print_pytorchfi_layer_summary())\n",
    "# perturb_model.experiment(test_dataloader)"
   ]
  },
  {
   "cell_type": "code",
   "execution_count": 8,
   "metadata": {},
   "outputs": [
    {
     "name": "stdout",
     "output_type": "stream",
     "text": [
      "38\n"
     ]
    }
   ],
   "source": [
    "print(len(perturb_model.inj_model.output_size))\n"
   ]
  },
  {
   "cell_type": "code",
   "execution_count": 9,
   "metadata": {},
   "outputs": [
    {
     "name": "stderr",
     "output_type": "stream",
     "text": [
      " 80%|████████  | 8/10 [01:48<00:27, 13.59s/it]"
     ]
    },
    {
     "name": "stdout",
     "output_type": "stream",
     "text": [
      "Finished evaluation.\n",
      "Injecting into layer 0, neuron index 10\n",
      "Injecting into layer 1, neuron index 36\n",
      "Injecting into layer 2, neuron index 113\n",
      "Injecting into layer 3, neuron index 61\n",
      "Injecting into layer 4, neuron index 72\n",
      "Injecting into layer 5, neuron index 98\n",
      "Injecting into layer 6, neuron index 71\n",
      "Injecting into layer 7, neuron index 116\n",
      "Injecting into layer 8, neuron index 97\n",
      "Injecting into layer 9, neuron index 61\n",
      "Injecting into layer 10, neuron index 83\n",
      "Injecting into layer 11, neuron index 47\n",
      "Injecting into layer 12, neuron index 88\n",
      "Injecting into layer 13, neuron index 100\n",
      "Injecting into layer 14, neuron index 102\n",
      "Injecting into layer 15, neuron index 43\n",
      "Injecting into layer 16, neuron index 90\n",
      "Injecting into layer 17, neuron index 22\n",
      "Injecting into layer 18, neuron index 122\n",
      "Injecting into layer 19, neuron index 26\n",
      "Injecting into layer 20, neuron index 38\n",
      "Injecting into layer 21, neuron index 25\n",
      "Injecting into layer 22, neuron index 0\n",
      "Injecting into layer 23, neuron index 4\n",
      "Injecting into layer 24, neuron index 54\n",
      "Injecting into layer 25, neuron index 74\n",
      "Injecting into layer 26, neuron index 124\n",
      "Injecting into layer 27, neuron index 66\n",
      "Injecting into layer 28, neuron index 79\n",
      "Injecting into layer 29, neuron index 116\n",
      "Injecting into layer 30, neuron index 75\n",
      "Injecting into layer 31, neuron index 5\n",
      "Injecting into layer 32, neuron index 73\n",
      "Injecting into layer 33, neuron index 26\n",
      "Injecting into layer 34, neuron index 49\n",
      "Injecting into layer 35, neuron index 86\n",
      "Injecting into layer 36, neuron index 481\n",
      "Injecting into layer 37, neuron index 0\n",
      "Finished injection, beginning evaluation.\n",
      "Model on device.\n",
      "Placed in eval mode.\n",
      "Beginning Evaluation.\n"
     ]
    },
    {
     "name": "stderr",
     "output_type": "stream",
     "text": [
      " 90%|█████████ | 9/10 [02:01<00:13, 13.57s/it]"
     ]
    },
    {
     "name": "stdout",
     "output_type": "stream",
     "text": [
      "Finished evaluation.\n",
      "Injecting into layer 0, neuron index 36\n",
      "Injecting into layer 1, neuron index 70\n",
      "Injecting into layer 2, neuron index 101\n",
      "Injecting into layer 3, neuron index 55\n",
      "Injecting into layer 4, neuron index 19\n",
      "Injecting into layer 5, neuron index 32\n",
      "Injecting into layer 6, neuron index 13\n",
      "Injecting into layer 7, neuron index 108\n",
      "Injecting into layer 8, neuron index 11\n",
      "Injecting into layer 9, neuron index 69\n",
      "Injecting into layer 10, neuron index 44\n",
      "Injecting into layer 11, neuron index 22\n",
      "Injecting into layer 12, neuron index 5\n",
      "Injecting into layer 13, neuron index 108\n",
      "Injecting into layer 14, neuron index 55\n",
      "Injecting into layer 15, neuron index 105\n",
      "Injecting into layer 16, neuron index 93\n",
      "Injecting into layer 17, neuron index 85\n",
      "Injecting into layer 18, neuron index 33\n",
      "Injecting into layer 19, neuron index 1\n",
      "Injecting into layer 20, neuron index 52\n",
      "Injecting into layer 21, neuron index 34\n",
      "Injecting into layer 22, neuron index 20\n",
      "Injecting into layer 23, neuron index 101\n",
      "Injecting into layer 24, neuron index 70\n",
      "Injecting into layer 25, neuron index 69\n",
      "Injecting into layer 26, neuron index 20\n",
      "Injecting into layer 27, neuron index 83\n",
      "Injecting into layer 28, neuron index 72\n",
      "Injecting into layer 29, neuron index 55\n",
      "Injecting into layer 30, neuron index 57\n",
      "Injecting into layer 31, neuron index 46\n",
      "Injecting into layer 32, neuron index 80\n",
      "Injecting into layer 33, neuron index 67\n",
      "Injecting into layer 34, neuron index 56\n",
      "Injecting into layer 35, neuron index 57\n",
      "Injecting into layer 36, neuron index 701\n",
      "Injecting into layer 37, neuron index 1\n",
      "Finished injection, beginning evaluation.\n",
      "Model on device.\n",
      "Placed in eval mode.\n",
      "Beginning Evaluation.\n"
     ]
    },
    {
     "name": "stderr",
     "output_type": "stream",
     "text": [
      "100%|██████████| 10/10 [02:16<00:00, 13.62s/it]"
     ]
    },
    {
     "name": "stdout",
     "output_type": "stream",
     "text": [
      "Finished evaluation.\n"
     ]
    },
    {
     "name": "stderr",
     "output_type": "stream",
     "text": [
      "\n"
     ]
    },
    {
     "data": {
      "image/png": "[encoded data removed]",
      "text/plain": [
       "<Figure size 640x480 with 1 Axes>"
      ]
     },
     "metadata": {},
     "output_type": "display_data"
    }
   ],
   "source": [
    "perturb_model.experiment(test_dataloader)"
   ]
  },
  {
   "cell_type": "code",
   "execution_count": 10,
   "metadata": {},
   "outputs": [
    {
     "name": "stdout",
     "output_type": "stream",
     "text": [
      "Number of injectable layers: 38\n"
     ]
    }
   ],
   "source": [
    "print(f\"Number of injectable layers: {len(perturb_model.inj_model.layers_type)}\")"
   ]
  },
  {
   "cell_type": "code",
   "execution_count": 11,
   "metadata": {},
   "outputs": [
    {
     "name": "stdout",
     "output_type": "stream",
     "text": [
      "Output size: [[1, 128, 768], [1, 128, 768], [1, 128, 768], [1, 128, 768], [1, 128, 3072], [1, 128, 768], [1, 128, 768], [1, 128, 768], [1, 128, 768], [1, 128, 768], [1, 128, 3072], [1, 128, 768], [1, 128, 768], [1, 128, 768], [1, 128, 768], [1, 128, 768], [1, 128, 3072], [1, 128, 768], [1, 128, 768], [1, 128, 768], [1, 128, 768], [1, 128, 768], [1, 128, 3072], [1, 128, 768], [1, 128, 768], [1, 128, 768], [1, 128, 768], [1, 128, 768], [1, 128, 3072], [1, 128, 768], [1, 128, 768], [1, 128, 768], [1, 128, 768], [1, 128, 768], [1, 128, 3072], [1, 128, 768], [1, 768], [1, 2]]\n"
     ]
    }
   ],
   "source": [
    "print(\"Output size:\", perturb_model.inj_model.output_size)"
   ]
  },
  {
   "cell_type": "code",
   "execution_count": 12,
   "metadata": {},
   "outputs": [
    {
     "name": "stdout",
     "output_type": "stream",
     "text": [
      "Total batches: 16\n"
     ]
    }
   ],
   "source": [
    "print(\"Total batches:\", perturb_model.inj_model.get_total_batches())"
   ]
  },
  {
   "cell_type": "code",
   "execution_count": 13,
   "metadata": {},
   "outputs": [
    {
     "name": "stdout",
     "output_type": "stream",
     "text": [
      "torch.Size([16, 128])\n"
     ]
    },
    {
     "name": "stdout",
     "output_type": "stream",
     "text": [
      "torch.Size([16, 128])\n",
      "torch.Size([16, 128])\n",
      "torch.Size([16, 128])\n",
      "torch.Size([16, 128])\n",
      "torch.Size([16, 128])\n",
      "torch.Size([16, 128])\n",
      "torch.Size([16, 128])\n",
      "torch.Size([16, 128])\n",
      "torch.Size([16, 128])\n",
      "torch.Size([16, 128])\n",
      "torch.Size([16, 128])\n",
      "torch.Size([16, 128])\n",
      "torch.Size([16, 128])\n",
      "torch.Size([16, 128])\n",
      "torch.Size([16, 128])\n",
      "torch.Size([16, 128])\n",
      "torch.Size([16, 128])\n",
      "torch.Size([16, 128])\n",
      "torch.Size([16, 128])\n",
      "torch.Size([16, 128])\n",
      "torch.Size([16, 128])\n",
      "torch.Size([16, 128])\n",
      "torch.Size([16, 128])\n",
      "torch.Size([16, 128])\n",
      "torch.Size([16, 128])\n",
      "torch.Size([16, 128])\n",
      "torch.Size([16, 128])\n",
      "torch.Size([16, 128])\n",
      "torch.Size([16, 128])\n",
      "torch.Size([16, 128])\n",
      "torch.Size([16, 128])\n",
      "torch.Size([16, 128])\n",
      "torch.Size([16, 128])\n",
      "torch.Size([16, 128])\n",
      "torch.Size([16, 128])\n",
      "torch.Size([16, 128])\n",
      "torch.Size([16, 128])\n",
      "torch.Size([16, 128])\n",
      "torch.Size([16, 128])\n",
      "torch.Size([16, 128])\n",
      "torch.Size([16, 128])\n",
      "torch.Size([16, 128])\n",
      "torch.Size([16, 128])\n",
      "torch.Size([16, 128])\n",
      "torch.Size([16, 128])\n",
      "torch.Size([16, 128])\n",
      "torch.Size([16, 128])\n",
      "torch.Size([16, 128])\n",
      "torch.Size([16, 128])\n",
      "torch.Size([16, 128])\n",
      "torch.Size([16, 128])\n",
      "torch.Size([16, 128])\n",
      "torch.Size([16, 128])\n",
      "torch.Size([16, 128])\n",
      "torch.Size([16, 128])\n",
      "torch.Size([16, 128])\n",
      "torch.Size([16, 128])\n",
      "torch.Size([16, 128])\n",
      "torch.Size([16, 128])\n",
      "torch.Size([16, 128])\n",
      "torch.Size([16, 128])\n"
     ]
    }
   ],
   "source": [
    "for batch in test_dataloader:\n",
    "    print(batch[0].size())"
   ]
  }
 ],
 "metadata": {
  "kernelspec": {
   "display_name": "Python 3",
   "language": "python",
   "name": "python3"
  },
  "language_info": {
   "codemirror_mode": {
    "name": "ipython",
    "version": 3
   },
   "file_extension": ".py",
   "mimetype": "text/x-python",
   "name": "python",
   "nbconvert_exporter": "python",
   "pygments_lexer": "ipython3",
   "version": "3.11.9"
  }
 },
 "nbformat": 4,
 "nbformat_minor": 2
}
